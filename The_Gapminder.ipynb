{
 "cells": [
  {
   "cell_type": "markdown",
   "id": "dae9c0b0-14de-4823-9ab2-091bf1a7401d",
   "metadata": {},
   "source": [
    "## Importing libraries"
   ]
  },
  {
   "cell_type": "code",
   "execution_count": 1,
   "id": "5ff3fc75-f139-4cf8-b317-00a29c1e36c8",
   "metadata": {},
   "outputs": [],
   "source": [
    "import pandas as pd\n",
    "import seaborn as sns\n",
    "from matplotlib import pyplot as plt\n",
    "import imageio\n",
    "%matplotlib inline"
   ]
  },
  {
   "cell_type": "markdown",
   "id": "7bd05750-a3c0-4753-9b5c-5d799066e78e",
   "metadata": {},
   "source": [
    "## read data"
   ]
  },
  {
   "cell_type": "code",
   "execution_count": 2,
   "id": "3046048a-65c5-4b37-880e-c20dfe9c09f1",
   "metadata": {},
   "outputs": [
    {
     "name": "stdout",
     "output_type": "stream",
     "text": [
      "continents.csv                  \u001b[0m\u001b[01;32mgapminder_total_fertility.csv\u001b[0m*\n",
      "\u001b[01;32mgapminder_lifeexpectancy.xlsx\u001b[0m*  \u001b[01;32mpenguins_clean.csv\u001b[0m*\n",
      "\u001b[01;32mgapminder_population.xlsx\u001b[0m*      \u001b[01;32mpenguins_simple.csv\u001b[0m*\n"
     ]
    }
   ],
   "source": [
    "ls ./data/"
   ]
  },
  {
   "cell_type": "code",
   "execution_count": 3,
   "id": "84ddacd7-58c0-42d1-8129-c9abff153e17",
   "metadata": {},
   "outputs": [],
   "source": [
    "fert = pd.read_csv('data/gapminder_total_fertility.csv', index_col=0)\n",
    "life = pd.read_excel('data/gapminder_lifeexpectancy.xlsx', index_col=0)\n",
    "popu = pd.read_excel('data/gapminder_population.xlsx', index_col=0)\n",
    "cont = pd.read_csv('data/continents.csv', sep=';')"
   ]
  },
  {
   "cell_type": "code",
   "execution_count": 4,
   "id": "cda466aa-1464-41a9-ab25-141f1f64f46c",
   "metadata": {},
   "outputs": [
    {
     "name": "stdout",
     "output_type": "stream",
     "text": [
      "                       1800  1801  1802  1803  1804  1805  1806  1807  1808  \\\n",
      "Total fertility rate                                                          \n",
      "Abkhazia                NaN   NaN   NaN   NaN   NaN   NaN   NaN   NaN   NaN   \n",
      "Afghanistan             7.0   7.0   7.0   7.0   7.0   7.0   7.0   7.0   7.0   \n",
      "Akrotiri and Dhekelia   NaN   NaN   NaN   NaN   NaN   NaN   NaN   NaN   NaN   \n",
      "\n",
      "                       1809  ...  2006  2007  2008  2009  2010  2011  2012  \\\n",
      "Total fertility rate         ...                                             \n",
      "Abkhazia                NaN  ...   NaN   NaN   NaN   NaN   NaN   NaN   NaN   \n",
      "Afghanistan             7.0  ...   6.7  6.46   6.2  5.93  5.66   5.4  5.14   \n",
      "Akrotiri and Dhekelia   NaN  ...   NaN   NaN   NaN   NaN   NaN   NaN   NaN   \n",
      "\n",
      "                       2013  2014  2015  \n",
      "Total fertility rate                     \n",
      "Abkhazia                NaN   NaN   NaN  \n",
      "Afghanistan             4.9  4.68  4.47  \n",
      "Akrotiri and Dhekelia   NaN   NaN   NaN  \n",
      "\n",
      "[3 rows x 216 columns]\n",
      "<class 'pandas.core.frame.DataFrame'>\n",
      "Index: 260 entries, Abkhazia to Åland\n",
      "Columns: 216 entries, 1800 to 2015\n",
      "dtypes: float64(216)\n",
      "memory usage: 440.8+ KB\n",
      "None\n"
     ]
    }
   ],
   "source": [
    "print(fert.head(3))\n",
    "print(fert.info())"
   ]
  },
  {
   "cell_type": "markdown",
   "id": "444c0ffe-ef5d-4082-8d86-19fecd3af388",
   "metadata": {},
   "source": [
    "## EDA"
   ]
  },
  {
   "cell_type": "code",
   "execution_count": 5,
   "id": "c1660212-4171-42fb-839c-3d3f6df88ac0",
   "metadata": {},
   "outputs": [],
   "source": [
    "# fert.columns is in str : change into int\n",
    "fert.columns = fert.columns.astype(int)\n",
    "\n",
    "# popu.columns contain many columns starting with \"Unnamed\" : drop them (learned from Marija's example code)\n",
    "popu.drop(popu.filter(like='Unnamed'), axis=1, inplace=True)"
   ]
  },
  {
   "cell_type": "code",
   "execution_count": 6,
   "id": "0f7d39de-9416-4dbb-b52e-a0af356070bc",
   "metadata": {},
   "outputs": [
    {
     "name": "stdout",
     "output_type": "stream",
     "text": [
      "                      1800  1801  1802  1803  1804  1805  1806  1807  1808  \\\n",
      "Total fertility rate                                                         \n",
      "Abkhazia               NaN   NaN   NaN   NaN   NaN   NaN   NaN   NaN   NaN   \n",
      "\n",
      "                      1809  ...  2006  2007  2008  2009  2010  2011  2012  \\\n",
      "Total fertility rate        ...                                             \n",
      "Abkhazia               NaN  ...   NaN   NaN   NaN   NaN   NaN   NaN   NaN   \n",
      "\n",
      "                      2013  2014  2015  \n",
      "Total fertility rate                    \n",
      "Abkhazia               NaN   NaN   NaN  \n",
      "\n",
      "[1 rows x 216 columns]\n",
      "                 1800  1801  1802  1803  1804  1805  1806  1807  1808  1809  \\\n",
      "Life expectancy                                                               \n",
      "Abkhazia          NaN   NaN   NaN   NaN   NaN   NaN   NaN   NaN   NaN   NaN   \n",
      "\n",
      "                 ...  2007  2008  2009  2010  2011  2012  2013  2014  2015  \\\n",
      "Life expectancy  ...                                                         \n",
      "Abkhazia         ...   NaN   NaN   NaN   NaN   NaN   NaN   NaN   NaN   NaN   \n",
      "\n",
      "                 2016  \n",
      "Life expectancy        \n",
      "Abkhazia          NaN  \n",
      "\n",
      "[1 rows x 217 columns]\n",
      "                  1800  1810  1820  1830  1840  1850  1860  1870  1880  1890  \\\n",
      "Total population                                                               \n",
      "Abkhazia           NaN   NaN   NaN   NaN   NaN   NaN   NaN   NaN   NaN   NaN   \n",
      "\n",
      "                  ...  2006  2007  2008  2009  2010  2011  2012  2013  2014  \\\n",
      "Total population  ...                                                         \n",
      "Abkhazia          ...   NaN   NaN   NaN   NaN   NaN   NaN   NaN   NaN   NaN   \n",
      "\n",
      "                  2015  \n",
      "Total population        \n",
      "Abkhazia           NaN  \n",
      "\n",
      "[1 rows x 81 columns]\n"
     ]
    }
   ],
   "source": [
    "print(fert.head(1))\n",
    "print(life.head(1))\n",
    "print(popu.head(1))"
   ]
  },
  {
   "cell_type": "code",
   "execution_count": 7,
   "id": "39820337-a5c7-4670-a1da-344ae76cbc7a",
   "metadata": {},
   "outputs": [],
   "source": [
    "# fert, life and popu : change index name to country and move index to column \n",
    "fert.index.name = 'country'\n",
    "life.index.name = 'country'\n",
    "popu.index.name = 'country'\n",
    "fert.reset_index(inplace=True)\n",
    "life.reset_index(inplace=True)\n",
    "popu.reset_index(inplace=True)"
   ]
  },
  {
   "cell_type": "code",
   "execution_count": 8,
   "id": "61574f6d-3d44-41db-aa25-a59aa0e6555e",
   "metadata": {},
   "outputs": [
    {
     "name": "stdout",
     "output_type": "stream",
     "text": [
      "    country  1800  1801  1802  1803  1804  1805  1806  1807  1808  ...  2006  \\\n",
      "0  Abkhazia   NaN   NaN   NaN   NaN   NaN   NaN   NaN   NaN   NaN  ...   NaN   \n",
      "\n",
      "   2007  2008  2009  2010  2011  2012  2013  2014  2015  \n",
      "0   NaN   NaN   NaN   NaN   NaN   NaN   NaN   NaN   NaN  \n",
      "\n",
      "[1 rows x 217 columns]\n",
      "    country  1800  1801  1802  1803  1804  1805  1806  1807  1808  ...  2007  \\\n",
      "0  Abkhazia   NaN   NaN   NaN   NaN   NaN   NaN   NaN   NaN   NaN  ...   NaN   \n",
      "\n",
      "   2008  2009  2010  2011  2012  2013  2014  2015  2016  \n",
      "0   NaN   NaN   NaN   NaN   NaN   NaN   NaN   NaN   NaN  \n",
      "\n",
      "[1 rows x 218 columns]\n",
      "    country  1800  1810  1820  1830  1840  1850  1860  1870  1880  ...  2006  \\\n",
      "0  Abkhazia   NaN   NaN   NaN   NaN   NaN   NaN   NaN   NaN   NaN  ...   NaN   \n",
      "\n",
      "   2007  2008  2009  2010  2011  2012  2013  2014  2015  \n",
      "0   NaN   NaN   NaN   NaN   NaN   NaN   NaN   NaN   NaN  \n",
      "\n",
      "[1 rows x 82 columns]\n"
     ]
    }
   ],
   "source": [
    "print(fert.head(1))\n",
    "print(life.head(1))\n",
    "print(popu.head(1))"
   ]
  },
  {
   "cell_type": "markdown",
   "id": "28fd5493-9875-4dfa-8f7e-0df861de3c76",
   "metadata": {},
   "source": [
    "## Data wrangling - convertiing into one datframe "
   ]
  },
  {
   "cell_type": "code",
   "execution_count": 9,
   "id": "b604653e-b6e7-4a61-a121-c97570d44f35",
   "metadata": {},
   "outputs": [],
   "source": [
    "# fert, life, popu : use 'country' as index variable, convert into long format, set value name to fertility_rate, life_expectancy and population\n",
    "fert = fert.melt(id_vars='country', var_name='year', value_name='fertility_rate')\n",
    "life = life.melt(id_vars='country', var_name='year', value_name='life_expectancy')\n",
    "popu = popu.melt(id_vars='country', var_name='year', value_name='population')"
   ]
  },
  {
   "cell_type": "code",
   "execution_count": 10,
   "id": "b3a617e7-9fd4-4290-aed1-c503ca39eeb4",
   "metadata": {},
   "outputs": [
    {
     "name": "stdout",
     "output_type": "stream",
     "text": [
      "                 country  year  fertility_rate\n",
      "0               Abkhazia  1800             NaN\n",
      "1            Afghanistan  1800             7.0\n",
      "2  Akrotiri and Dhekelia  1800             NaN\n",
      "                 country  year  life_expectancy\n",
      "0               Abkhazia  1800              NaN\n",
      "1            Afghanistan  1800            28.21\n",
      "2  Akrotiri and Dhekelia  1800              NaN\n",
      "                 country  year  population\n",
      "0               Abkhazia  1800         NaN\n",
      "1            Afghanistan  1800   3280000.0\n",
      "2  Akrotiri and Dhekelia  1800         NaN\n"
     ]
    }
   ],
   "source": [
    "print(fert.head(3))\n",
    "print(life.head(3))\n",
    "print(popu.head(3))"
   ]
  },
  {
   "cell_type": "code",
   "execution_count": 11,
   "id": "6a447756-638f-4627-bf53-f03e807937a6",
   "metadata": {},
   "outputs": [
    {
     "data": {
      "text/html": [
       "<div>\n",
       "<style scoped>\n",
       "    .dataframe tbody tr th:only-of-type {\n",
       "        vertical-align: middle;\n",
       "    }\n",
       "\n",
       "    .dataframe tbody tr th {\n",
       "        vertical-align: top;\n",
       "    }\n",
       "\n",
       "    .dataframe thead th {\n",
       "        text-align: right;\n",
       "    }\n",
       "</style>\n",
       "<table border=\"1\" class=\"dataframe\">\n",
       "  <thead>\n",
       "    <tr style=\"text-align: right;\">\n",
       "      <th></th>\n",
       "      <th>country</th>\n",
       "      <th>year</th>\n",
       "      <th>population_milion</th>\n",
       "    </tr>\n",
       "  </thead>\n",
       "  <tbody>\n",
       "    <tr>\n",
       "      <th>0</th>\n",
       "      <td>Abkhazia</td>\n",
       "      <td>1800</td>\n",
       "      <td>NaN</td>\n",
       "    </tr>\n",
       "    <tr>\n",
       "      <th>1</th>\n",
       "      <td>Afghanistan</td>\n",
       "      <td>1800</td>\n",
       "      <td>3.280000</td>\n",
       "    </tr>\n",
       "    <tr>\n",
       "      <th>2</th>\n",
       "      <td>Akrotiri and Dhekelia</td>\n",
       "      <td>1800</td>\n",
       "      <td>NaN</td>\n",
       "    </tr>\n",
       "    <tr>\n",
       "      <th>3</th>\n",
       "      <td>Albania</td>\n",
       "      <td>1800</td>\n",
       "      <td>0.410445</td>\n",
       "    </tr>\n",
       "    <tr>\n",
       "      <th>4</th>\n",
       "      <td>Algeria</td>\n",
       "      <td>1800</td>\n",
       "      <td>2.503218</td>\n",
       "    </tr>\n",
       "  </tbody>\n",
       "</table>\n",
       "</div>"
      ],
      "text/plain": [
       "                 country  year  population_milion\n",
       "0               Abkhazia  1800                NaN\n",
       "1            Afghanistan  1800           3.280000\n",
       "2  Akrotiri and Dhekelia  1800                NaN\n",
       "3                Albania  1800           0.410445\n",
       "4                Algeria  1800           2.503218"
      ]
     },
     "execution_count": 11,
     "metadata": {},
     "output_type": "execute_result"
    }
   ],
   "source": [
    "# if want to use population in milion unit\n",
    "popu['population_milion'] = popu['population']/1_000_000\n",
    "popu.drop(columns=['population'], inplace=True)\n",
    "popu.head()"
   ]
  },
  {
   "cell_type": "code",
   "execution_count": 12,
   "id": "90c1b3f6-e242-4d80-aa4f-ae3d3f8d416b",
   "metadata": {},
   "outputs": [
    {
     "data": {
      "text/html": [
       "<div>\n",
       "<style scoped>\n",
       "    .dataframe tbody tr th:only-of-type {\n",
       "        vertical-align: middle;\n",
       "    }\n",
       "\n",
       "    .dataframe tbody tr th {\n",
       "        vertical-align: top;\n",
       "    }\n",
       "\n",
       "    .dataframe thead th {\n",
       "        text-align: right;\n",
       "    }\n",
       "</style>\n",
       "<table border=\"1\" class=\"dataframe\">\n",
       "  <thead>\n",
       "    <tr style=\"text-align: right;\">\n",
       "      <th></th>\n",
       "      <th>continent</th>\n",
       "      <th>country</th>\n",
       "    </tr>\n",
       "  </thead>\n",
       "  <tbody>\n",
       "    <tr>\n",
       "      <th>0</th>\n",
       "      <td>Africa</td>\n",
       "      <td>Algeria</td>\n",
       "    </tr>\n",
       "    <tr>\n",
       "      <th>1</th>\n",
       "      <td>Africa</td>\n",
       "      <td>Angola</td>\n",
       "    </tr>\n",
       "    <tr>\n",
       "      <th>2</th>\n",
       "      <td>Africa</td>\n",
       "      <td>Benin</td>\n",
       "    </tr>\n",
       "    <tr>\n",
       "      <th>3</th>\n",
       "      <td>Africa</td>\n",
       "      <td>Botswana</td>\n",
       "    </tr>\n",
       "    <tr>\n",
       "      <th>4</th>\n",
       "      <td>Africa</td>\n",
       "      <td>Burkina</td>\n",
       "    </tr>\n",
       "  </tbody>\n",
       "</table>\n",
       "</div>"
      ],
      "text/plain": [
       "  continent   country\n",
       "0    Africa   Algeria\n",
       "1    Africa    Angola\n",
       "2    Africa     Benin\n",
       "3    Africa  Botswana\n",
       "4    Africa   Burkina"
      ]
     },
     "execution_count": 12,
     "metadata": {},
     "output_type": "execute_result"
    }
   ],
   "source": [
    "cont.head()"
   ]
  },
  {
   "cell_type": "code",
   "execution_count": 13,
   "id": "9ca735d6-8277-4ad3-ac95-b3b01afe9135",
   "metadata": {},
   "outputs": [
    {
     "name": "stdout",
     "output_type": "stream",
     "text": [
      "(56160, 3) (56420, 3) (22275, 3) (194, 2)\n",
      "(14175, 6)\n",
      "       country  year  fertility_rate  life_expectancy  population_milion  \\\n",
      "0  Afghanistan  1800             7.0            28.21           3.280000   \n",
      "1  Afghanistan  1810             7.0            28.11           3.280000   \n",
      "2  Afghanistan  1820             7.0            28.01           3.323519   \n",
      "\n",
      "  continent  \n",
      "0      Asia  \n",
      "1      Asia  \n",
      "2      Asia  \n"
     ]
    }
   ],
   "source": [
    "# merge into one dataframe\n",
    "print(fert.shape, life.shape, popu.shape, cont.shape)\n",
    "complete = fert.merge(life).merge(popu).merge(cont) \n",
    "print(complete.shape)\n",
    "print(complete.head(3))\n"
   ]
  },
  {
   "cell_type": "markdown",
   "id": "ad5afa4f-9f33-411d-a356-15771e2edbf4",
   "metadata": {},
   "source": [
    "## Plotting"
   ]
  },
  {
   "cell_type": "code",
   "execution_count": 14,
   "id": "28f8282c-d1d7-43a9-b5c0-165dc6d0267f",
   "metadata": {},
   "outputs": [],
   "source": [
    "# plot and save one frame of given year\n",
    "def plot_save_year(year):\n",
    "    \n",
    "    plt.figure(figsize=(10,10))\n",
    "    sns.set_theme(style=\"darkgrid\")\n",
    "    \n",
    "    year_df = complete.loc[complete['year'] == year]\n",
    "\n",
    "    # for setting marker size\n",
    "    total_max = complete['population_milion'].max() # popu data_max\n",
    "    year_min_norm = year_df['population_milion'].min()/total_max # popu frame_min/data_max\n",
    "    year_max_norm = year_df['population_milion'].max()/total_max # popu frame_max/data_max\n",
    "\n",
    "    im = sns.relplot(\n",
    "        x='fertility_rate', y='life_expectancy', size='population_milion', \n",
    "        hue='continent', sizes=(100*year_min_norm, 1000*year_max_norm), \n",
    "        alpha=0.7, data=year_df);\n",
    "\n",
    "    # for adding text\n",
    "    x = year_df['fertility_rate'].loc[year_df['country'] == 'India']\n",
    "    y = year_df['life_expectancy'].loc[year_df['country'] == 'India']\n",
    "    plt.text(x=x, y=y, s='India')\n",
    "    \n",
    "    plt.xlabel('Fertility rate', fontsize=14)\n",
    "    plt.ylabel('Life expectancy', fontsize=14)\n",
    "    plt.title('{}'.format(year), fontsize=16);\n",
    "    plt.xlim([complete['fertility_rate'].min()*0.95, complete['fertility_rate'].max()*1.05])\n",
    "    plt.ylim([complete['life_expectancy'].min()*0.95, complete['life_expectancy'].max()*1.05])\n",
    "\n",
    "    plt.close()\n",
    "    im.savefig('./results/fert_life_year_{}.png'.format(year))"
   ]
  },
  {
   "cell_type": "code",
   "execution_count": 15,
   "id": "5fd429c5-480a-41ac-b231-caf0163e8806",
   "metadata": {},
   "outputs": [
    {
     "data": {
      "text/plain": [
       "<Figure size 720x720 with 0 Axes>"
      ]
     },
     "metadata": {},
     "output_type": "display_data"
    },
    {
     "data": {
      "text/plain": [
       "<Figure size 720x720 with 0 Axes>"
      ]
     },
     "metadata": {},
     "output_type": "display_data"
    }
   ],
   "source": [
    "# test first and last year\n",
    "plot_save_year(1960)\n",
    "plot_save_year(2015)"
   ]
  },
  {
   "cell_type": "code",
   "execution_count": 16,
   "id": "2018c8b3-8c0f-4be8-9754-66a782b81d7c",
   "metadata": {},
   "outputs": [
    {
     "name": "stderr",
     "output_type": "stream",
     "text": [
      "/home/amardeep/anaconda3/lib/python3.8/site-packages/seaborn/axisgrid.py:392: RuntimeWarning: More than 20 figures have been opened. Figures created through the pyplot interface (`matplotlib.pyplot.figure`) are retained until explicitly closed and may consume too much memory. (To control this warning, see the rcParam `figure.max_open_warning`).\n",
      "  fig, axes = plt.subplots(nrow, ncol, **kwargs)\n",
      "<ipython-input-14-1bba1a193d36>:4: RuntimeWarning: More than 20 figures have been opened. Figures created through the pyplot interface (`matplotlib.pyplot.figure`) are retained until explicitly closed and may consume too much memory. (To control this warning, see the rcParam `figure.max_open_warning`).\n",
      "  plt.figure(figsize=(10,10))\n"
     ]
    },
    {
     "data": {
      "text/plain": [
       "<Figure size 720x720 with 0 Axes>"
      ]
     },
     "metadata": {},
     "output_type": "display_data"
    },
    {
     "data": {
      "text/plain": [
       "<Figure size 720x720 with 0 Axes>"
      ]
     },
     "metadata": {},
     "output_type": "display_data"
    },
    {
     "data": {
      "text/plain": [
       "<Figure size 720x720 with 0 Axes>"
      ]
     },
     "metadata": {},
     "output_type": "display_data"
    },
    {
     "data": {
      "text/plain": [
       "<Figure size 720x720 with 0 Axes>"
      ]
     },
     "metadata": {},
     "output_type": "display_data"
    },
    {
     "data": {
      "text/plain": [
       "<Figure size 720x720 with 0 Axes>"
      ]
     },
     "metadata": {},
     "output_type": "display_data"
    },
    {
     "data": {
      "text/plain": [
       "<Figure size 720x720 with 0 Axes>"
      ]
     },
     "metadata": {},
     "output_type": "display_data"
    },
    {
     "data": {
      "text/plain": [
       "<Figure size 720x720 with 0 Axes>"
      ]
     },
     "metadata": {},
     "output_type": "display_data"
    },
    {
     "data": {
      "text/plain": [
       "<Figure size 720x720 with 0 Axes>"
      ]
     },
     "metadata": {},
     "output_type": "display_data"
    },
    {
     "data": {
      "text/plain": [
       "<Figure size 720x720 with 0 Axes>"
      ]
     },
     "metadata": {},
     "output_type": "display_data"
    },
    {
     "data": {
      "text/plain": [
       "<Figure size 720x720 with 0 Axes>"
      ]
     },
     "metadata": {},
     "output_type": "display_data"
    },
    {
     "data": {
      "text/plain": [
       "<Figure size 720x720 with 0 Axes>"
      ]
     },
     "metadata": {},
     "output_type": "display_data"
    },
    {
     "data": {
      "text/plain": [
       "<Figure size 720x720 with 0 Axes>"
      ]
     },
     "metadata": {},
     "output_type": "display_data"
    },
    {
     "data": {
      "text/plain": [
       "<Figure size 720x720 with 0 Axes>"
      ]
     },
     "metadata": {},
     "output_type": "display_data"
    },
    {
     "data": {
      "text/plain": [
       "<Figure size 720x720 with 0 Axes>"
      ]
     },
     "metadata": {},
     "output_type": "display_data"
    },
    {
     "data": {
      "text/plain": [
       "<Figure size 720x720 with 0 Axes>"
      ]
     },
     "metadata": {},
     "output_type": "display_data"
    },
    {
     "data": {
      "text/plain": [
       "<Figure size 720x720 with 0 Axes>"
      ]
     },
     "metadata": {},
     "output_type": "display_data"
    },
    {
     "data": {
      "text/plain": [
       "<Figure size 720x720 with 0 Axes>"
      ]
     },
     "metadata": {},
     "output_type": "display_data"
    },
    {
     "data": {
      "text/plain": [
       "<Figure size 720x720 with 0 Axes>"
      ]
     },
     "metadata": {},
     "output_type": "display_data"
    },
    {
     "data": {
      "text/plain": [
       "<Figure size 720x720 with 0 Axes>"
      ]
     },
     "metadata": {},
     "output_type": "display_data"
    },
    {
     "data": {
      "text/plain": [
       "<Figure size 720x720 with 0 Axes>"
      ]
     },
     "metadata": {},
     "output_type": "display_data"
    },
    {
     "data": {
      "text/plain": [
       "<Figure size 720x720 with 0 Axes>"
      ]
     },
     "metadata": {},
     "output_type": "display_data"
    },
    {
     "data": {
      "text/plain": [
       "<Figure size 720x720 with 0 Axes>"
      ]
     },
     "metadata": {},
     "output_type": "display_data"
    },
    {
     "data": {
      "text/plain": [
       "<Figure size 720x720 with 0 Axes>"
      ]
     },
     "metadata": {},
     "output_type": "display_data"
    },
    {
     "data": {
      "text/plain": [
       "<Figure size 720x720 with 0 Axes>"
      ]
     },
     "metadata": {},
     "output_type": "display_data"
    },
    {
     "data": {
      "text/plain": [
       "<Figure size 720x720 with 0 Axes>"
      ]
     },
     "metadata": {},
     "output_type": "display_data"
    },
    {
     "data": {
      "text/plain": [
       "<Figure size 720x720 with 0 Axes>"
      ]
     },
     "metadata": {},
     "output_type": "display_data"
    },
    {
     "data": {
      "text/plain": [
       "<Figure size 720x720 with 0 Axes>"
      ]
     },
     "metadata": {},
     "output_type": "display_data"
    },
    {
     "data": {
      "text/plain": [
       "<Figure size 720x720 with 0 Axes>"
      ]
     },
     "metadata": {},
     "output_type": "display_data"
    },
    {
     "data": {
      "text/plain": [
       "<Figure size 720x720 with 0 Axes>"
      ]
     },
     "metadata": {},
     "output_type": "display_data"
    },
    {
     "data": {
      "text/plain": [
       "<Figure size 720x720 with 0 Axes>"
      ]
     },
     "metadata": {},
     "output_type": "display_data"
    },
    {
     "data": {
      "text/plain": [
       "<Figure size 720x720 with 0 Axes>"
      ]
     },
     "metadata": {},
     "output_type": "display_data"
    },
    {
     "data": {
      "text/plain": [
       "<Figure size 720x720 with 0 Axes>"
      ]
     },
     "metadata": {},
     "output_type": "display_data"
    },
    {
     "data": {
      "text/plain": [
       "<Figure size 720x720 with 0 Axes>"
      ]
     },
     "metadata": {},
     "output_type": "display_data"
    },
    {
     "data": {
      "text/plain": [
       "<Figure size 720x720 with 0 Axes>"
      ]
     },
     "metadata": {},
     "output_type": "display_data"
    },
    {
     "data": {
      "text/plain": [
       "<Figure size 720x720 with 0 Axes>"
      ]
     },
     "metadata": {},
     "output_type": "display_data"
    },
    {
     "data": {
      "text/plain": [
       "<Figure size 720x720 with 0 Axes>"
      ]
     },
     "metadata": {},
     "output_type": "display_data"
    },
    {
     "data": {
      "text/plain": [
       "<Figure size 720x720 with 0 Axes>"
      ]
     },
     "metadata": {},
     "output_type": "display_data"
    },
    {
     "data": {
      "text/plain": [
       "<Figure size 720x720 with 0 Axes>"
      ]
     },
     "metadata": {},
     "output_type": "display_data"
    },
    {
     "data": {
      "text/plain": [
       "<Figure size 720x720 with 0 Axes>"
      ]
     },
     "metadata": {},
     "output_type": "display_data"
    },
    {
     "data": {
      "text/plain": [
       "<Figure size 720x720 with 0 Axes>"
      ]
     },
     "metadata": {},
     "output_type": "display_data"
    },
    {
     "data": {
      "text/plain": [
       "<Figure size 720x720 with 0 Axes>"
      ]
     },
     "metadata": {},
     "output_type": "display_data"
    },
    {
     "data": {
      "text/plain": [
       "<Figure size 720x720 with 0 Axes>"
      ]
     },
     "metadata": {},
     "output_type": "display_data"
    },
    {
     "data": {
      "text/plain": [
       "<Figure size 720x720 with 0 Axes>"
      ]
     },
     "metadata": {},
     "output_type": "display_data"
    },
    {
     "data": {
      "text/plain": [
       "<Figure size 720x720 with 0 Axes>"
      ]
     },
     "metadata": {},
     "output_type": "display_data"
    },
    {
     "data": {
      "text/plain": [
       "<Figure size 720x720 with 0 Axes>"
      ]
     },
     "metadata": {},
     "output_type": "display_data"
    },
    {
     "data": {
      "text/plain": [
       "<Figure size 720x720 with 0 Axes>"
      ]
     },
     "metadata": {},
     "output_type": "display_data"
    },
    {
     "data": {
      "text/plain": [
       "<Figure size 720x720 with 0 Axes>"
      ]
     },
     "metadata": {},
     "output_type": "display_data"
    },
    {
     "data": {
      "text/plain": [
       "<Figure size 720x720 with 0 Axes>"
      ]
     },
     "metadata": {},
     "output_type": "display_data"
    },
    {
     "data": {
      "text/plain": [
       "<Figure size 720x720 with 0 Axes>"
      ]
     },
     "metadata": {},
     "output_type": "display_data"
    },
    {
     "data": {
      "text/plain": [
       "<Figure size 720x720 with 0 Axes>"
      ]
     },
     "metadata": {},
     "output_type": "display_data"
    },
    {
     "data": {
      "text/plain": [
       "<Figure size 720x720 with 0 Axes>"
      ]
     },
     "metadata": {},
     "output_type": "display_data"
    },
    {
     "data": {
      "text/plain": [
       "<Figure size 720x720 with 0 Axes>"
      ]
     },
     "metadata": {},
     "output_type": "display_data"
    },
    {
     "data": {
      "text/plain": [
       "<Figure size 720x720 with 0 Axes>"
      ]
     },
     "metadata": {},
     "output_type": "display_data"
    },
    {
     "data": {
      "text/plain": [
       "<Figure size 720x720 with 0 Axes>"
      ]
     },
     "metadata": {},
     "output_type": "display_data"
    },
    {
     "data": {
      "text/plain": [
       "<Figure size 720x720 with 0 Axes>"
      ]
     },
     "metadata": {},
     "output_type": "display_data"
    },
    {
     "data": {
      "text/plain": [
       "<Figure size 720x720 with 0 Axes>"
      ]
     },
     "metadata": {},
     "output_type": "display_data"
    }
   ],
   "source": [
    "# generate image for all years\n",
    "images = []\n",
    "for year in range(1960,2016):\n",
    "    plot_save_year(year)\n",
    "    filename = './results/fert_life_year_{}.png'.format(year)\n",
    "    images.append(imageio.imread(filename))\n",
    "\n",
    "# save gif \n",
    "imageio.mimsave('./results/gapminder.gif', images, fps=10)"
   ]
  },
  {
   "cell_type": "code",
   "execution_count": null,
   "id": "d6048844-3771-4f7e-baaf-7cd47f629d53",
   "metadata": {},
   "outputs": [],
   "source": []
  }
 ],
 "metadata": {
  "kernelspec": {
   "display_name": "Python 3",
   "language": "python",
   "name": "python3"
  },
  "language_info": {
   "codemirror_mode": {
    "name": "ipython",
    "version": 3
   },
   "file_extension": ".py",
   "mimetype": "text/x-python",
   "name": "python",
   "nbconvert_exporter": "python",
   "pygments_lexer": "ipython3",
   "version": "3.8.8"
  }
 },
 "nbformat": 4,
 "nbformat_minor": 5
}
